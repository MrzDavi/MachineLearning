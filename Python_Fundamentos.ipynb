{
  "nbformat": 4,
  "nbformat_minor": 0,
  "metadata": {
    "colab": {
      "provenance": []
    },
    "kernelspec": {
      "name": "python3",
      "display_name": "Python 3"
    },
    "language_info": {
      "name": "python"
    }
  },
  "cells": [
    {
      "cell_type": "markdown",
      "source": [
        "---\n",
        "\n",
        "<h1 align=left><font size = 8, style=\"color:rgb(200,0,0)\"><b>Python: Fundamentos</b></font></h1>\n",
        "\n",
        "---\n"
      ],
      "metadata": {
        "id": "nca0B6sMP-bX"
      }
    },
    {
      "cell_type": "markdown",
      "source": [
        "### **Lista de Exercícios Básicos em Python**\n"
      ],
      "metadata": {
        "id": "HuFiKphKRAA0"
      }
    },
    {
      "cell_type": "markdown",
      "source": [
        "\n",
        "#### **1. Tipos de Variáveis**"
      ],
      "metadata": {
        "id": "4VLWvgR5SE8i"
      }
    },
    {
      "cell_type": "markdown",
      "source": [
        "\n",
        "\n",
        "1. **Identificação de Tipos de Dados:**\n",
        "   - Crie três variáveis, uma para cada tipo: `int`, `float`, e `str`. Atribua valores a essas variáveis e use a função `type()` para imprimir o tipo de cada variável.\n"
      ],
      "metadata": {
        "id": "3xB3HWRKQ7DX"
      }
    },
    {
      "cell_type": "code",
      "source": [
        "idade = 30\n",
        "preco = 19.99\n",
        "nome = \"João\"\n",
        "\n",
        "print(type(idade))\n",
        "print(type(preco))\n",
        "print(type(nome))\n"
      ],
      "metadata": {
        "id": "NDZ5jIOaSDps"
      },
      "execution_count": null,
      "outputs": []
    },
    {
      "cell_type": "markdown",
      "source": [
        "\n",
        "2. **Conversão de Tipos:**\n",
        "   - Dada a string `\"123\"`, converta-a em um inteiro e em um número de ponto flutuante. Verifique os tipos resultantes.\n"
      ],
      "metadata": {
        "id": "7txz0GDERlJV"
      }
    },
    {
      "cell_type": "code",
      "source": [
        "string_numero = \"123\"\n",
        "\n",
        "\n",
        "numero_inteiro = int(string_numero)\n",
        "numero_float = float(string_numero)\n",
        "\n",
        "print(type(numero_inteiro))\n",
        "print(type(numero_float))\n"
      ],
      "metadata": {
        "id": "-r_o8-clSDTc"
      },
      "execution_count": null,
      "outputs": []
    },
    {
      "cell_type": "markdown",
      "source": [
        "\n",
        "3. **Operações Básicas com Diferentes Tipos de Dados:**\n",
        "   - Crie duas variáveis, uma `int` e uma `float`, e realize operações de adição, subtração, multiplicação e divisão entre elas. Observe os tipos de dados dos resultados.\n",
        "\n"
      ],
      "metadata": {
        "id": "v-DPFoQ1Rwwb"
      }
    },
    {
      "cell_type": "code",
      "source": [
        "int_var = 10\n",
        "float_var = 3.5\n",
        "\n",
        "adicao = int_var + float_var\n",
        "subtracao = int_var - float_var\n",
        "multiplicacao = int_var * float_var\n",
        "divisao = int_var / float_var\n",
        "\n",
        "tipo_adicao = type(adicao)\n",
        "tipo_subtracao = type(subtracao)\n",
        "tipo_multiplicacao = type(multiplicacao)\n",
        "tipo_divisao = type(divisao)\n",
        "\n",
        "print(\"Adição:\", adicao, \"Tipo:\", tipo_adicao)\n",
        "print(\"Subtração:\", subtracao, \"Tipo:\", tipo_subtracao)\n",
        "print(\"Multiplicação:\", multiplicacao, \"Tipo:\", tipo_multiplicacao)\n",
        "print(\"Divisão:\", divisao, \"Tipo:\", tipo_divisao)\n"
      ],
      "metadata": {
        "id": "qKI3AB1XSC2p"
      },
      "execution_count": null,
      "outputs": []
    },
    {
      "cell_type": "markdown",
      "source": [
        "\n",
        "#### **2. Estruturas Básicas (Listas, Dicionários)**"
      ],
      "metadata": {
        "id": "hyPqfh_jSB8m"
      }
    },
    {
      "cell_type": "markdown",
      "source": [
        "\n",
        "\n",
        "4. **Manipulação de Listas:**\n",
        "   - Crie uma lista com os números de 1 a 5. Adicione o número 6 ao final da lista, remova o número 2, e inverta a ordem dos elementos.\n"
      ],
      "metadata": {
        "id": "Bb8zfDK3RyKz"
      }
    },
    {
      "cell_type": "code",
      "source": [
        "lista = [1, 2, 3, 4, 5]\n",
        "lista.append(6)\n",
        "lista.remove(2)\n",
        "lista.reverse()\n",
        "print(lista)\n"
      ],
      "metadata": {
        "id": "li8NgFq_SAp6"
      },
      "execution_count": null,
      "outputs": []
    },
    {
      "cell_type": "markdown",
      "source": [
        "\n",
        "5. **Acessando Elementos da Lista:**\n",
        "   - Dada a lista `[10, 20, 30, 40, 50]`, acesse e imprima o primeiro, o terceiro e o último elemento da lista.\n",
        "\n"
      ],
      "metadata": {
        "id": "ZAzyQN06R0DB"
      }
    },
    {
      "cell_type": "code",
      "source": [
        "lista = [10, 20, 30, 40, 50]\n",
        "print(lista[0])\n",
        "print(lista[2])\n",
        "print(lista[-1])\n"
      ],
      "metadata": {
        "id": "QOcycPXZSASf"
      },
      "execution_count": null,
      "outputs": []
    },
    {
      "cell_type": "markdown",
      "source": [
        "\n",
        "6. **Criação e Manipulação de Dicionários:**\n",
        "   - Crie um dicionário para armazenar as notas de três alunos (ex.: `{'João': 8.5, 'Maria': 9.0, 'Pedro': 7.5}`). Adicione a nota de um quarto aluno, remova a nota de um aluno, e imprima todas as chaves e valores do dicionário.\n",
        "\n",
        "\n"
      ],
      "metadata": {
        "id": "rhLiDhC7R1Sp"
      }
    },
    {
      "cell_type": "code",
      "source": [
        "notas = {'João': 8.5, 'Maria': 9.0, 'Pedro': 7.5}\n",
        "notas['Ana'] = 8.0\n",
        "del notas['Pedro']\n",
        "print(notas.keys())\n",
        "print(notas.values())\n",
        "\n"
      ],
      "metadata": {
        "id": "vEEs-jJfR_sE"
      },
      "execution_count": null,
      "outputs": []
    },
    {
      "cell_type": "markdown",
      "source": [
        "\n",
        "7. **Acessando Elementos do Dicionário:**\n",
        "   - Usando o dicionário criado no exercício anterior, acesse e imprima a nota de um aluno específico, por exemplo, `Maria`.\n"
      ],
      "metadata": {
        "id": "G0MnxaMuR2cT"
      }
    },
    {
      "cell_type": "code",
      "source": [
        "notas = {'João': 8.5, 'Maria': 9.0, 'Ana': 8.0}\n",
        "print(notas['Maria'])\n"
      ],
      "metadata": {
        "id": "5oBTW-qGR_Ba"
      },
      "execution_count": null,
      "outputs": []
    },
    {
      "cell_type": "markdown",
      "source": [
        "\n",
        "#### **3. Laços Condicionais**"
      ],
      "metadata": {
        "id": "i1Ys5gwgR-Jh"
      }
    },
    {
      "cell_type": "markdown",
      "source": [
        "\n",
        "\n",
        "\n",
        "8. **Verificação de Números Pares e Ímpares:**\n",
        "   - Escreva um código que percorre uma lista de números de 1 a 10 e imprime se cada número é par ou ímpar.\n",
        "\n"
      ],
      "metadata": {
        "id": "vQNCCcdIR3pU"
      }
    },
    {
      "cell_type": "code",
      "source": [
        "numeros = list(range(1, 11))\n",
        "for numero in numeros:\n",
        "    if numero % 2 == 0:\n",
        "        print(f\"{numero} é par\")\n",
        "    else:\n",
        "        print(f\"{numero} é ímpar\")\n",
        "\n"
      ],
      "metadata": {
        "id": "8bwGVU4CR8Yv"
      },
      "execution_count": null,
      "outputs": []
    },
    {
      "cell_type": "markdown",
      "source": [
        "\n",
        "9. **Encontrando o Maior Número:**\n",
        "   - Dada uma lista de números `[3, 7, 2, 8, 5, 10]`, escreva um código que encontre e imprima o maior número da lista.\n"
      ],
      "metadata": {
        "id": "mTz0cU-GR4wg"
      }
    },
    {
      "cell_type": "code",
      "source": [
        "numeros = [3, 7, 2, 8, 5, 10]\n",
        "print(max(numeros))\n"
      ],
      "metadata": {
        "id": "0olYWpQkR7-f"
      },
      "execution_count": null,
      "outputs": []
    },
    {
      "cell_type": "markdown",
      "source": [
        "\n",
        "10. **Contando Ocorrências de um Elemento:**\n",
        "    - Escreva um código que percorra uma lista de elementos (por exemplo, `['a', 'b', 'a', 'c', 'a', 'b']`) e conte quantas vezes o elemento `'a'` aparece na lista.\n"
      ],
      "metadata": {
        "id": "fP51eZHfR6QQ"
      }
    },
    {
      "cell_type": "code",
      "source": [
        "elementos = ['FOGO', 'AGUA', 'FOGO', 'TERRA', 'GRAMA']\n",
        "contagem = elementos.count('FOGO')\n",
        "print(contagem)\n"
      ],
      "metadata": {
        "id": "8-wJcqFARir8"
      },
      "execution_count": null,
      "outputs": []
    }
  ]
}